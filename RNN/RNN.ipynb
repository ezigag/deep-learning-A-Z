{
 "cells": [
  {
   "cell_type": "code",
   "execution_count": 1,
   "metadata": {},
   "outputs": [],
   "source": [
    "# Recurrent Neural Network\n",
    "\n",
    "# Part 1 - Data Preprocessing\n",
    "\n",
    "# Import Lib\n",
    "import numpy as np\n",
    "import matplotlib.pyplot as plt\n",
    "import pandas as pd\n"
   ]
  },
  {
   "cell_type": "code",
   "execution_count": 2,
   "metadata": {},
   "outputs": [],
   "source": [
    "# Import the training set\n",
    "dataset_train = pd.read_csv('Google_Stock_Price_Train.csv', header = 0)\n",
    "training_set = dataset_train.iloc[:, 1:2].values   # make as np.array\n",
    "\n",
    "# Feature Scaling\n",
    "from sklearn.preprocessing import MinMaxScaler\n",
    "sc = MinMaxScaler(feature_range = (0,1))\n",
    "trainging_set_scaled = sc.fit_transform(training_set)\n",
    "\n",
    "# Creating a data structure with 60 time stops and 1 output\n",
    "X_train = []\n",
    "y_train = []\n",
    "for i in range(60, len(trainging_set_scaled)):\n",
    "    X_train.append(trainging_set_scaled[i-60:i, 0])\n",
    "    y_train.append(trainging_set_scaled[i, 0])\n",
    "X_train, y_train = np.array(X_train), np.array(y_train)\n",
    "\n",
    "# Reshaping\n",
    "# 3 diemsion test data structer to train RNN\n",
    "# 1.) batchsize 2. time_step  3. [all feature in each time_step]\n",
    "X_train = np.reshape(X_train, (X_train.shape[0], X_train.shape[1], 1)) "
   ]
  },
  {
   "cell_type": "code",
   "execution_count": 3,
   "metadata": {},
   "outputs": [
    {
     "name": "stderr",
     "output_type": "stream",
     "text": [
      "Using TensorFlow backend.\n"
     ]
    }
   ],
   "source": [
    "# Part 2 - Building The RNN\n",
    "from keras.models import Sequential\n",
    "from keras.layers import Dense\n",
    "from keras.layers import LSTM\n",
    "from keras.layers import Dropout\n"
   ]
  },
  {
   "cell_type": "code",
   "execution_count": 4,
   "metadata": {},
   "outputs": [
    {
     "name": "stderr",
     "output_type": "stream",
     "text": [
      "WARNING: Logging before flag parsing goes to stderr.\n",
      "W0512 01:09:31.246846 19388 deprecation_wrapper.py:119] From C:\\Users\\natht\\Anaconda3\\lib\\site-packages\\keras\\backend\\tensorflow_backend.py:74: The name tf.get_default_graph is deprecated. Please use tf.compat.v1.get_default_graph instead.\n",
      "\n",
      "W0512 01:09:31.267915 19388 deprecation_wrapper.py:119] From C:\\Users\\natht\\Anaconda3\\lib\\site-packages\\keras\\backend\\tensorflow_backend.py:517: The name tf.placeholder is deprecated. Please use tf.compat.v1.placeholder instead.\n",
      "\n",
      "W0512 01:09:31.271917 19388 deprecation_wrapper.py:119] From C:\\Users\\natht\\Anaconda3\\lib\\site-packages\\keras\\backend\\tensorflow_backend.py:4138: The name tf.random_uniform is deprecated. Please use tf.random.uniform instead.\n",
      "\n",
      "W0512 01:09:31.473683 19388 deprecation_wrapper.py:119] From C:\\Users\\natht\\Anaconda3\\lib\\site-packages\\keras\\backend\\tensorflow_backend.py:133: The name tf.placeholder_with_default is deprecated. Please use tf.compat.v1.placeholder_with_default instead.\n",
      "\n",
      "W0512 01:09:31.479681 19388 deprecation.py:506] From C:\\Users\\natht\\Anaconda3\\lib\\site-packages\\keras\\backend\\tensorflow_backend.py:3445: calling dropout (from tensorflow.python.ops.nn_ops) with keep_prob is deprecated and will be removed in a future version.\n",
      "Instructions for updating:\n",
      "Please use `rate` instead of `keep_prob`. Rate should be set to `rate = 1 - keep_prob`.\n",
      "W0512 01:09:32.147318 19388 deprecation_wrapper.py:119] From C:\\Users\\natht\\Anaconda3\\lib\\site-packages\\keras\\optimizers.py:790: The name tf.train.Optimizer is deprecated. Please use tf.compat.v1.train.Optimizer instead.\n",
      "\n"
     ]
    }
   ],
   "source": [
    "# Part 2 - Building The RNN\n",
    "from keras.models import Sequential\n",
    "from keras.layers import Dense\n",
    "from keras.layers import LSTM\n",
    "from keras.layers import Dropout\n",
    "\n",
    "# Initialising the RNN\n",
    "regressor = Sequential()\n",
    "\n",
    "#Adding the 1st LSTM later and some Drop out regularisation\n",
    "regressor.add(LSTM(units = 50, return_sequences = True, input_shape = (X_train.shape[1], 1)))\n",
    "regressor.add(Dropout(rate = 0.2))\n",
    "\n",
    "#Adding the 2nd LSTM later and some Drop out regularisation\n",
    "regressor.add(LSTM(units = 50, return_sequences = True))\n",
    "regressor.add(Dropout(rate = 0.2))\n",
    "\n",
    "#Adding the 3rd LSTM later and some Drop out regularisation\n",
    "regressor.add(LSTM(units = 50, return_sequences = True))\n",
    "regressor.add(Dropout(rate = 0.2))\n",
    "\n",
    "#Adding the 4th LSTM later and some Drop out regularisation\n",
    "regressor.add(LSTM(units = 50))# return_sequences = False\n",
    "regressor.add(Dropout(rate = 0.2))\n",
    "\n",
    "#Adding Output Later\n",
    "regressor.add(Dense(units = 1))\n",
    "\n",
    "# compile the rnn\n",
    "regressor.compile(optimizer = 'adam', loss = 'mean_squared_error')"
   ]
  },
  {
   "cell_type": "code",
   "execution_count": 5,
   "metadata": {},
   "outputs": [
    {
     "name": "stdout",
     "output_type": "stream",
     "text": [
      "_________________________________________________________________\n",
      "Layer (type)                 Output Shape              Param #   \n",
      "=================================================================\n",
      "lstm_1 (LSTM)                (None, 60, 50)            10400     \n",
      "_________________________________________________________________\n",
      "dropout_1 (Dropout)          (None, 60, 50)            0         \n",
      "_________________________________________________________________\n",
      "lstm_2 (LSTM)                (None, 60, 50)            20200     \n",
      "_________________________________________________________________\n",
      "dropout_2 (Dropout)          (None, 60, 50)            0         \n",
      "_________________________________________________________________\n",
      "lstm_3 (LSTM)                (None, 60, 50)            20200     \n",
      "_________________________________________________________________\n",
      "dropout_3 (Dropout)          (None, 60, 50)            0         \n",
      "_________________________________________________________________\n",
      "lstm_4 (LSTM)                (None, 50)                20200     \n",
      "_________________________________________________________________\n",
      "dropout_4 (Dropout)          (None, 50)                0         \n",
      "_________________________________________________________________\n",
      "dense_1 (Dense)              (None, 1)                 51        \n",
      "=================================================================\n",
      "Total params: 71,051\n",
      "Trainable params: 71,051\n",
      "Non-trainable params: 0\n",
      "_________________________________________________________________\n"
     ]
    }
   ],
   "source": [
    "regressor.summary()"
   ]
  },
  {
   "cell_type": "code",
   "execution_count": 6,
   "metadata": {},
   "outputs": [
    {
     "name": "stderr",
     "output_type": "stream",
     "text": [
      "W0512 01:10:32.918941 19388 deprecation_wrapper.py:119] From C:\\Users\\natht\\Anaconda3\\lib\\site-packages\\keras\\backend\\tensorflow_backend.py:986: The name tf.assign_add is deprecated. Please use tf.compat.v1.assign_add instead.\n",
      "\n"
     ]
    },
    {
     "name": "stdout",
     "output_type": "stream",
     "text": [
      "Epoch 1/100\n",
      "1198/1198 [==============================] - 43s 35ms/step - loss: 0.0481\n",
      "Epoch 2/100\n",
      "1198/1198 [==============================] - 19s 15ms/step - loss: 0.0074\n",
      "Epoch 3/100\n",
      "1198/1198 [==============================] - 18s 15ms/step - loss: 0.0062\n",
      "Epoch 4/100\n",
      "1198/1198 [==============================] - 18s 15ms/step - loss: 0.0067\n",
      "Epoch 5/100\n",
      "1198/1198 [==============================] - 18s 15ms/step - loss: 0.0047\n",
      "Epoch 6/100\n",
      "1198/1198 [==============================] - 18s 15ms/step - loss: 0.0052\n",
      "Epoch 7/100\n",
      "1198/1198 [==============================] - 18s 15ms/step - loss: 0.0048\n",
      "Epoch 8/100\n",
      "1198/1198 [==============================] - 20s 17ms/step - loss: 0.0045\n",
      "Epoch 9/100\n",
      "1198/1198 [==============================] - 18s 15ms/step - loss: 0.0047\n",
      "Epoch 10/100\n",
      "1198/1198 [==============================] - 20s 16ms/step - loss: 0.0046\n",
      "Epoch 11/100\n",
      "1198/1198 [==============================] - 21s 18ms/step - loss: 0.0045\n",
      "Epoch 12/100\n",
      "1198/1198 [==============================] - 18s 15ms/step - loss: 0.0044\n",
      "Epoch 13/100\n",
      "1198/1198 [==============================] - 21s 17ms/step - loss: 0.0047\n",
      "Epoch 14/100\n",
      "1198/1198 [==============================] - 23s 19ms/step - loss: 0.0040\n",
      "Epoch 15/100\n",
      "1198/1198 [==============================] - 19s 16ms/step - loss: 0.0037\n",
      "Epoch 16/100\n",
      "1198/1198 [==============================] - 23s 19ms/step - loss: 0.0036\n",
      "Epoch 17/100\n",
      "1198/1198 [==============================] - 18s 15ms/step - loss: 0.0039\n",
      "Epoch 18/100\n",
      "1198/1198 [==============================] - 22s 18ms/step - loss: 0.0036\n",
      "Epoch 19/100\n",
      "1198/1198 [==============================] - 23s 19ms/step - loss: 0.0039\n",
      "Epoch 20/100\n",
      "1198/1198 [==============================] - 21s 18ms/step - loss: 0.0039\n",
      "Epoch 21/100\n",
      "1198/1198 [==============================] - 19s 16ms/step - loss: 0.0033\n",
      "Epoch 22/100\n",
      "1198/1198 [==============================] - 23s 20ms/step - loss: 0.0043\n",
      "Epoch 23/100\n",
      "1198/1198 [==============================] - 23s 19ms/step - loss: 0.0035\n",
      "Epoch 24/100\n",
      "1198/1198 [==============================] - 19s 16ms/step - loss: 0.0033\n",
      "Epoch 25/100\n",
      "1198/1198 [==============================] - 23s 19ms/step - loss: 0.0034\n",
      "Epoch 26/100\n",
      "1198/1198 [==============================] - 20s 17ms/step - loss: 0.0029\n",
      "Epoch 27/100\n",
      "1198/1198 [==============================] - 21s 18ms/step - loss: 0.0033\n",
      "Epoch 28/100\n",
      "1198/1198 [==============================] - 23s 19ms/step - loss: 0.0029\n",
      "Epoch 29/100\n",
      "1198/1198 [==============================] - 22s 18ms/step - loss: 0.0032\n",
      "Epoch 30/100\n",
      "1198/1198 [==============================] - 18s 15ms/step - loss: 0.0038\n",
      "Epoch 31/100\n",
      "1198/1198 [==============================] - 20s 17ms/step - loss: 0.0028\n",
      "Epoch 32/100\n",
      "1198/1198 [==============================] - 22s 18ms/step - loss: 0.0028\n",
      "Epoch 33/100\n",
      "1198/1198 [==============================] - 19s 16ms/step - loss: 0.0028\n",
      "Epoch 34/100\n",
      "1198/1198 [==============================] - 18s 15ms/step - loss: 0.0029\n",
      "Epoch 35/100\n",
      "1198/1198 [==============================] - 22s 18ms/step - loss: 0.0030\n",
      "Epoch 36/100\n",
      "1198/1198 [==============================] - 24s 20ms/step - loss: 0.0028\n",
      "Epoch 37/100\n",
      "1198/1198 [==============================] - 24s 20ms/step - loss: 0.0026\n",
      "Epoch 38/100\n",
      "1198/1198 [==============================] - 23s 19ms/step - loss: 0.0028\n",
      "Epoch 39/100\n",
      "1198/1198 [==============================] - 23s 19ms/step - loss: 0.0026\n",
      "Epoch 40/100\n",
      "1198/1198 [==============================] - 23s 19ms/step - loss: 0.0027\n",
      "Epoch 41/100\n",
      "1198/1198 [==============================] - 20s 17ms/step - loss: 0.0026\n",
      "Epoch 42/100\n",
      "1198/1198 [==============================] - 21s 17ms/step - loss: 0.0022\n",
      "Epoch 43/100\n",
      "1198/1198 [==============================] - 24s 20ms/step - loss: 0.0027\n",
      "Epoch 44/100\n",
      "1198/1198 [==============================] - 23s 19ms/step - loss: 0.0026\n",
      "Epoch 45/100\n",
      "1198/1198 [==============================] - 23s 20ms/step - loss: 0.0027\n",
      "Epoch 46/100\n",
      "1198/1198 [==============================] - 23s 20ms/step - loss: 0.0024\n",
      "Epoch 47/100\n",
      "1198/1198 [==============================] - 23s 19ms/step - loss: 0.0030\n",
      "Epoch 48/100\n",
      "1198/1198 [==============================] - 23s 19ms/step - loss: 0.0026\n",
      "Epoch 49/100\n",
      "1198/1198 [==============================] - 22s 18ms/step - loss: 0.0023\n",
      "Epoch 50/100\n",
      "1198/1198 [==============================] - 21s 17ms/step - loss: 0.0023\n",
      "Epoch 51/100\n",
      "1198/1198 [==============================] - 24s 20ms/step - loss: 0.0025\n",
      "Epoch 52/100\n",
      "1198/1198 [==============================] - 22s 19ms/step - loss: 0.0028\n",
      "Epoch 53/100\n",
      "1198/1198 [==============================] - 23s 19ms/step - loss: 0.0025\n",
      "Epoch 54/100\n",
      "1198/1198 [==============================] - 19s 16ms/step - loss: 0.0023\n",
      "Epoch 55/100\n",
      "1198/1198 [==============================] - 25s 21ms/step - loss: 0.0022\n",
      "Epoch 56/100\n",
      "1198/1198 [==============================] - 24s 20ms/step - loss: 0.0022\n",
      "Epoch 57/100\n",
      "1198/1198 [==============================] - 23s 19ms/step - loss: 0.0025\n",
      "Epoch 58/100\n",
      "1198/1198 [==============================] - 23s 19ms/step - loss: 0.0020\n",
      "Epoch 59/100\n",
      "1198/1198 [==============================] - 23s 19ms/step - loss: 0.0021\n",
      "Epoch 60/100\n",
      "1198/1198 [==============================] - 24s 20ms/step - loss: 0.0022\n",
      "Epoch 61/100\n",
      "1198/1198 [==============================] - 23s 19ms/step - loss: 0.0022\n",
      "Epoch 62/100\n",
      "1198/1198 [==============================] - 23s 19ms/step - loss: 0.0020\n",
      "Epoch 63/100\n",
      "1198/1198 [==============================] - 23s 19ms/step - loss: 0.0020\n",
      "Epoch 64/100\n",
      "1198/1198 [==============================] - 23s 19ms/step - loss: 0.0020\n",
      "Epoch 65/100\n",
      "1198/1198 [==============================] - 23s 20ms/step - loss: 0.0020\n",
      "Epoch 66/100\n",
      "1198/1198 [==============================] - 23s 20ms/step - loss: 0.0023\n",
      "Epoch 67/100\n",
      "1198/1198 [==============================] - 23s 19ms/step - loss: 0.0020\n",
      "Epoch 68/100\n",
      "1198/1198 [==============================] - 23s 20ms/step - loss: 0.0018\n",
      "Epoch 69/100\n",
      "1198/1198 [==============================] - 23s 19ms/step - loss: 0.0019\n",
      "Epoch 70/100\n",
      "1198/1198 [==============================] - 20s 17ms/step - loss: 0.0019\n",
      "Epoch 71/100\n",
      "1198/1198 [==============================] - 17s 15ms/step - loss: 0.0020\n",
      "Epoch 72/100\n",
      "1198/1198 [==============================] - 21s 18ms/step - loss: 0.0018\n",
      "Epoch 73/100\n",
      "1198/1198 [==============================] - 22s 19ms/step - loss: 0.0018\n",
      "Epoch 74/100\n",
      "1198/1198 [==============================] - 24s 20ms/step - loss: 0.0020\n",
      "Epoch 75/100\n",
      "1198/1198 [==============================] - 23s 19ms/step - loss: 0.0021\n",
      "Epoch 76/100\n",
      "1198/1198 [==============================] - 23s 19ms/step - loss: 0.0017\n",
      "Epoch 77/100\n",
      "1198/1198 [==============================] - 23s 19ms/step - loss: 0.0018\n",
      "Epoch 78/100\n",
      "1198/1198 [==============================] - 23s 19ms/step - loss: 0.0018\n",
      "Epoch 79/100\n",
      "1198/1198 [==============================] - 23s 19ms/step - loss: 0.0018\n",
      "Epoch 80/100\n",
      "1198/1198 [==============================] - 23s 19ms/step - loss: 0.0019\n",
      "Epoch 81/100\n",
      "1198/1198 [==============================] - 22s 19ms/step - loss: 0.0017\n",
      "Epoch 82/100\n",
      "1198/1198 [==============================] - 23s 19ms/step - loss: 0.0017\n",
      "Epoch 83/100\n",
      "1198/1198 [==============================] - 23s 19ms/step - loss: 0.0018\n",
      "Epoch 84/100\n",
      "1198/1198 [==============================] - 23s 19ms/step - loss: 0.0016\n",
      "Epoch 85/100\n",
      "1198/1198 [==============================] - 22s 19ms/step - loss: 0.0016\n",
      "Epoch 86/100\n",
      "1198/1198 [==============================] - 23s 19ms/step - loss: 0.0017\n",
      "Epoch 87/100\n",
      "1198/1198 [==============================] - 23s 19ms/step - loss: 0.0017\n",
      "Epoch 88/100\n",
      "1198/1198 [==============================] - 23s 19ms/step - loss: 0.0017\n",
      "Epoch 89/100\n",
      "1198/1198 [==============================] - 23s 19ms/step - loss: 0.0016\n",
      "Epoch 90/100\n",
      "1198/1198 [==============================] - 24s 20ms/step - loss: 0.0017\n",
      "Epoch 91/100\n",
      "1198/1198 [==============================] - 22s 19ms/step - loss: 0.0015\n",
      "Epoch 92/100\n",
      "1198/1198 [==============================] - 23s 19ms/step - loss: 0.0016\n",
      "Epoch 93/100\n",
      "1198/1198 [==============================] - 23s 19ms/step - loss: 0.0015\n",
      "Epoch 94/100\n",
      "1198/1198 [==============================] - 21s 18ms/step - loss: 0.0015\n",
      "Epoch 95/100\n"
     ]
    },
    {
     "name": "stdout",
     "output_type": "stream",
     "text": [
      "1198/1198 [==============================] - 22s 18ms/step - loss: 0.0015\n",
      "Epoch 96/100\n",
      "1198/1198 [==============================] - 27s 22ms/step - loss: 0.0014\n",
      "Epoch 97/100\n",
      "1198/1198 [==============================] - 23s 19ms/step - loss: 0.0016\n",
      "Epoch 98/100\n",
      "1198/1198 [==============================] - 21s 18ms/step - loss: 0.0016\n",
      "Epoch 99/100\n",
      "1198/1198 [==============================] - 22s 18ms/step - loss: 0.0014\n",
      "Epoch 100/100\n",
      "1198/1198 [==============================] - 21s 18ms/step - loss: 0.0015\n"
     ]
    }
   ],
   "source": [
    "#fitting the RNN to the training set\n",
    "trained  = regressor.fit(X_train, y_train, epochs = 100, batch_size = 32)"
   ]
  },
  {
   "cell_type": "code",
   "execution_count": 11,
   "metadata": {},
   "outputs": [
    {
     "data": {
      "image/png": "[encoded data removed]",
      "text/plain": [
       "<Figure size 432x288 with 1 Axes>"
      ]
     },
     "metadata": {
      "needs_background": "light"
     },
     "output_type": "display_data"
    }
   ],
   "source": [
    "import matplotlib.pyplot as plt\n",
    "plt.plot(trained.history['loss'])\n",
    "plt.title('Model loss')\n",
    "plt.ylabel('Loss')\n",
    "plt.xlabel('Epoch')\n",
    "plt.legend(['Train'], loc='upper right')\n",
    "plt.show()"
   ]
  },
  {
   "cell_type": "code",
   "execution_count": 17,
   "metadata": {},
   "outputs": [],
   "source": [
    "# Part 3 - Making the predictions and visualising the results"
   ]
  },
  {
   "cell_type": "code",
   "execution_count": 18,
   "metadata": {},
   "outputs": [],
   "source": [
    "# Getting the real stock price of 2017\n",
    "dataset_test = pd.read_csv('Google_Stock_Price_Test.csv', header = 0)\n",
    "real_stock_price = dataset_test.iloc[:, 1:2].values   # make as np.array"
   ]
  },
  {
   "cell_type": "code",
   "execution_count": 19,
   "metadata": {},
   "outputs": [
    {
     "data": {
      "image/png": "[encoded data removed]",
      "text/plain": [
       "<Figure size 432x288 with 1 Axes>"
      ]
     },
     "metadata": {
      "needs_background": "light"
     },
     "output_type": "display_data"
    }
   ],
   "source": [
    "plt.plot(real_stock_price)\n",
    "plt.title('real_stock_price')\n",
    "plt.ylabel('price')\n",
    "plt.xlabel('t')\n",
    "plt.show()"
   ]
  },
  {
   "cell_type": "code",
   "execution_count": 86,
   "metadata": {},
   "outputs": [],
   "source": [
    "# Getting the predicted stock price of 2017\n",
    "dataset_total = pd.concat((dataset_train['Open'], dataset_test['Open']), axis = 0)\n",
    "inputs = dataset_total[(len(dataset_total) - len(dataset_test)) - 60 : ].values\n",
    "inputs = inputs.reshape(-1, 1)   # inputs.reshape(80, 1)\n",
    "inputs = sc.transform(inputs)   #same scaleing as training set"
   ]
  },
  {
   "cell_type": "code",
   "execution_count": 98,
   "metadata": {},
   "outputs": [],
   "source": [
    "# X_test = []\n",
    "# for i in range(0, 20):\n",
    "#     X_test2.append(inputs[i:i+60, 0])\n",
    "# X_test = np.array(X_test)"
   ]
  },
  {
   "cell_type": "code",
   "execution_count": 101,
   "metadata": {},
   "outputs": [],
   "source": [
    "X_test = []\n",
    "for i in range(60, 80):\n",
    "    X_test.append(inputs[i-60:i, 0])\n",
    "X_test = np.array(X_test)\n",
    "X_test = np.reshape(X_test, (X_test.shape[0], X_test.shape[1], 1)) "
   ]
  },
  {
   "cell_type": "code",
   "execution_count": 108,
   "metadata": {},
   "outputs": [],
   "source": [
    "predicted_stock_price = regressor.predict(X_test)\n",
    "predicted_stock_price = sc.inverse_transform(predicted_stock_price)"
   ]
  },
  {
   "cell_type": "code",
   "execution_count": 110,
   "metadata": {},
   "outputs": [
    {
     "data": {
      "image/png": "[encoded data removed]",
      "text/plain": [
       "<Figure size 432x288 with 1 Axes>"
      ]
     },
     "metadata": {
      "needs_background": "light"
     },
     "output_type": "display_data"
    }
   ],
   "source": [
    "plt.plot(real_stock_price)\n",
    "plt.plot(predicted_stock_price)\n",
    "plt.title('compare_stock_price')\n",
    "plt.ylabel('price')\n",
    "plt.xlabel('time')\n",
    "plt.legend(['real_stock_pride','predicted_stock_price'], loc='upper right')\n",
    "plt.show()\n"
   ]
  },
  {
   "cell_type": "code",
   "execution_count": 111,
   "metadata": {},
   "outputs": [
    {
     "data": {
      "image/png": "[encoded data removed]",
      "text/plain": [
       "<Figure size 432x288 with 1 Axes>"
      ]
     },
     "metadata": {
      "needs_background": "light"
     },
     "output_type": "display_data"
    }
   ],
   "source": [
    "# Visualising the results\n",
    "plt.plot(real_stock_price, color = 'red', label = 'Real Google Stock Pride')\n",
    "plt.plot(predicted_stock_price, color = 'blue', label = 'Predicted Google Stock Pride')\n",
    "plt.title('Google Stock Pride Prediction')\n",
    "plt.xlabel('Time')\n",
    "plt.ylabel('Google Stock Price')\n",
    "plt.legend()\n",
    "plt.show()\n"
   ]
  },
  {
   "cell_type": "code",
   "execution_count": 112,
   "metadata": {},
   "outputs": [],
   "source": [
    "\n",
    "import math\n",
    "from sklearn.metrics import mean_squared_error\n",
    "rmse = math.sqrt(mean_squared_error(real_stock_price, predicted_stock_price))"
   ]
  },
  {
   "cell_type": "code",
   "execution_count": 113,
   "metadata": {},
   "outputs": [
    {
     "data": {
      "text/plain": [
       "15.45068562787337"
      ]
     },
     "execution_count": 113,
     "metadata": {},
     "output_type": "execute_result"
    }
   ],
   "source": [
    "rmse"
   ]
  },
  {
   "cell_type": "code",
   "execution_count": null,
   "metadata": {},
   "outputs": [],
   "source": []
  }
 ],
 "metadata": {
  "kernelspec": {
   "display_name": "Python 3",
   "language": "python",
   "name": "python3"
  },
  "language_info": {
   "codemirror_mode": {
    "name": "ipython",
    "version": 3
   },
   "file_extension": ".py",
   "mimetype": "text/x-python",
   "name": "python",
   "nbconvert_exporter": "python",
   "pygments_lexer": "ipython3",
   "version": "3.7.3"
  }
 },
 "nbformat": 4,
 "nbformat_minor": 2
}
